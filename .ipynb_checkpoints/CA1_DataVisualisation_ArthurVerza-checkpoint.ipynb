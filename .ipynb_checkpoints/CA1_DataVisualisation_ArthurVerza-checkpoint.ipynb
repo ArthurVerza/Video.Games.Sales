{
 "cells": [
  {
   "cell_type": "code",
   "execution_count": null,
   "id": "09e69c78",
   "metadata": {},
   "outputs": [],
   "source": [
    "import pandas as pd\n",
    "import numpy as np\n",
    "import matplotlib.pyplot as plt\n",
    "import seaborn as sns\n",
    "from scipy.stats import pearsonr\n",
    "import warnings"
   ]
  },
  {
   "cell_type": "code",
   "execution_count": null,
   "id": "bb524ba8",
   "metadata": {},
   "outputs": [],
   "source": [
    "# Ignore all warnings\n",
    "warnings.filterwarnings(\"ignore\")"
   ]
  },
  {
   "cell_type": "code",
   "execution_count": null,
   "id": "94137748",
   "metadata": {},
   "outputs": [],
   "source": [
    "df=pd.read_csv(\"vgsales.csv\")"
   ]
  },
  {
   "cell_type": "code",
   "execution_count": null,
   "id": "ddfb7344",
   "metadata": {},
   "outputs": [],
   "source": [
    "df.head()"
   ]
  },
  {
   "cell_type": "code",
   "execution_count": null,
   "id": "636d422c",
   "metadata": {},
   "outputs": [],
   "source": [
    "df.info()"
   ]
  },
  {
   "cell_type": "markdown",
   "id": "89cd1284",
   "metadata": {},
   "source": [
    "Checking type of each column for this dataset"
   ]
  },
  {
   "cell_type": "code",
   "execution_count": null,
   "id": "db14c48a",
   "metadata": {},
   "outputs": [],
   "source": [
    "df.describe()"
   ]
  },
  {
   "cell_type": "code",
   "execution_count": null,
   "id": "92e70a7b",
   "metadata": {},
   "outputs": [],
   "source": [
    "df= df.sort_values(by=\"Global_Sales\", ascending = False)"
   ]
  },
  {
   "cell_type": "code",
   "execution_count": null,
   "id": "506907a9",
   "metadata": {},
   "outputs": [],
   "source": [
    "df.columns"
   ]
  },
  {
   "cell_type": "code",
   "execution_count": null,
   "id": "e5b81403",
   "metadata": {},
   "outputs": [],
   "source": [
    "df.isnull().sum()"
   ]
  },
  {
   "cell_type": "markdown",
   "id": "a4633eba",
   "metadata": {},
   "source": [
    "Checking missing values"
   ]
  },
  {
   "cell_type": "code",
   "execution_count": null,
   "id": "2f0639e9",
   "metadata": {},
   "outputs": [],
   "source": [
    "df.shape"
   ]
  },
  {
   "cell_type": "code",
   "execution_count": null,
   "id": "edf80c70",
   "metadata": {},
   "outputs": [],
   "source": [
    "# Replace missing values for numerical columns with mean\n",
    "numerical_columns = ['Critic_Score', 'Critic_Count', 'User_Count']\n",
    "for column in numerical_columns:\n",
    "    if df[column].dtype != 'object':  # Checking if the column is numeric\n",
    "        \n",
    "            # Replace missing values with the mean\n",
    "            df[column].fillna(df[column].mean(), inplace=True)\n"
   ]
  },
  {
   "cell_type": "markdown",
   "id": "75bd36bb",
   "metadata": {},
   "source": [
    "Replacing numerical missing vlaues per Mean of it"
   ]
  },
  {
   "cell_type": "code",
   "execution_count": null,
   "id": "8698c241",
   "metadata": {},
   "outputs": [],
   "source": [
    "# Replace missing values for categorical columns with mode\n",
    "categorical_columns = ['Developer', 'Rating','User_Score']\n",
    "for column in categorical_columns:\n",
    "    df[column].fillna(df[column].mode()[0], inplace=True)"
   ]
  },
  {
   "cell_type": "markdown",
   "id": "d47358a8",
   "metadata": {},
   "source": [
    "Replacing categorical missing values per the mode"
   ]
  },
  {
   "cell_type": "code",
   "execution_count": null,
   "id": "e8b13b4a",
   "metadata": {},
   "outputs": [],
   "source": [
    "df.isnull().sum()"
   ]
  },
  {
   "cell_type": "markdown",
   "id": "e8698dc5",
   "metadata": {},
   "source": [
    "checking the missing vlaues after replacing per mean and mode"
   ]
  },
  {
   "cell_type": "code",
   "execution_count": null,
   "id": "524b80ce",
   "metadata": {},
   "outputs": [],
   "source": [
    "df=df.dropna()"
   ]
  },
  {
   "cell_type": "code",
   "execution_count": null,
   "id": "cf8bc1da",
   "metadata": {},
   "outputs": [],
   "source": [
    "df.isnull().sum()"
   ]
  },
  {
   "cell_type": "markdown",
   "id": "d25430d7",
   "metadata": {},
   "source": [
    "After drop the remaining missing values(choose this option because had just a small number of missing values if compared of the total)"
   ]
  },
  {
   "cell_type": "code",
   "execution_count": null,
   "id": "c09dcae8",
   "metadata": {},
   "outputs": [],
   "source": [
    "df['Year_of_Release'] = pd.to_datetime(df['Year_of_Release'], format='%Y')\n"
   ]
  },
  {
   "cell_type": "markdown",
   "id": "d29f914b",
   "metadata": {},
   "source": [
    "Replace the values to dates, with the previous values were impossible to know the release year of each game)"
   ]
  },
  {
   "cell_type": "code",
   "execution_count": null,
   "id": "8b8cd080",
   "metadata": {},
   "outputs": [],
   "source": [
    "df.columns = df.columns.str.upper()"
   ]
  },
  {
   "cell_type": "markdown",
   "id": "632176c4",
   "metadata": {},
   "source": [
    "Change all the columns name for upper letter"
   ]
  },
  {
   "cell_type": "code",
   "execution_count": null,
   "id": "9281db1e",
   "metadata": {},
   "outputs": [],
   "source": [
    "df.head()"
   ]
  },
  {
   "cell_type": "code",
   "execution_count": null,
   "id": "a01f3b48",
   "metadata": {},
   "outputs": [],
   "source": [
    "ps2 = df[df['PLATFORM']=='PS2']\n",
    "ps2.info()"
   ]
  },
  {
   "cell_type": "code",
   "execution_count": null,
   "id": "2a10996e",
   "metadata": {},
   "outputs": [],
   "source": [
    "ps3 = df[df['PLATFORM']=='PS3']\n",
    "ps3.info()"
   ]
  },
  {
   "cell_type": "code",
   "execution_count": null,
   "id": "7d83d1b0",
   "metadata": {},
   "outputs": [],
   "source": [
    "ps4 = df[df['PLATFORM']=='PS4']\n",
    "ps4.info()"
   ]
  },
  {
   "cell_type": "code",
   "execution_count": null,
   "id": "f2a4dea6",
   "metadata": {},
   "outputs": [],
   "source": [
    "pc = df[df['PLATFORM']=='PC']\n",
    "pc.info()"
   ]
  },
  {
   "cell_type": "code",
   "execution_count": null,
   "id": "96b0775b",
   "metadata": {},
   "outputs": [],
   "source": [
    "xOne = df[df['PLATFORM']=='XOne']\n",
    "xOne.info()"
   ]
  },
  {
   "cell_type": "code",
   "execution_count": null,
   "id": "27d4520d",
   "metadata": {},
   "outputs": [],
   "source": [
    "x360 = df[df['PLATFORM']=='X360']\n",
    "x360.info()"
   ]
  },
  {
   "cell_type": "code",
   "execution_count": null,
   "id": "2862c12e",
   "metadata": {},
   "outputs": [],
   "source": [
    "sframe = [ps2,ps3,ps4]\n",
    "sony = pd.concat(sframe)\n",
    "sony.info()"
   ]
  },
  {
   "cell_type": "code",
   "execution_count": null,
   "id": "e95c241e",
   "metadata": {},
   "outputs": [],
   "source": [
    "mframes = [x360,xOne]\n",
    "microsoft = pd.concat(mframes)\n",
    "microsoft.info()"
   ]
  },
  {
   "cell_type": "code",
   "execution_count": null,
   "id": "bce041ea",
   "metadata": {},
   "outputs": [],
   "source": [
    "ps2gs = round(ps2['GLOBAL_SALES'].sum())\n",
    "ps3gs = round(ps3['GLOBAL_SALES'].sum())\n",
    "ps4gs = round(ps4['GLOBAL_SALES'].sum())\n",
    "xonegs = round(xOne['GLOBAL_SALES'].sum())\n",
    "x360gs = round(x360['GLOBAL_SALES'].sum())\n",
    "pcgs = round(pc['GLOBAL_SALES'].sum())\n",
    "sonygs = round(sony['GLOBAL_SALES'].sum())\n",
    "microsoftgs = round(microsoft['GLOBAL_SALES'].sum())\n",
    "print(ps2gs,ps3gs,ps4gs,xonegs,x360gs,pcgs,sonygs,microsoftgs)"
   ]
  },
  {
   "cell_type": "markdown",
   "id": "0e09713d",
   "metadata": {},
   "source": [
    "Data separated by plataform and after concatenated by brand/producer"
   ]
  },
  {
   "cell_type": "code",
   "execution_count": null,
   "id": "c3f19c10",
   "metadata": {},
   "outputs": [],
   "source": [
    "#creating lists for sony's global_sales and platforms\n",
    "stotal_sales = [ps2gs,ps3gs,ps4gs]\n",
    "splatforms=['PS2','PS3','PS4']\n",
    "\n",
    "#creating lists for microsoft's global_sales and platforms\n",
    "mtotal_sales=[x360gs,xonegs]\n",
    "mplatforms=['XBOX 360','XBOX ONE']\n",
    "\n",
    "#creating subplot\n",
    "fig, axes = plt.subplots(2,1,figsize=(15,15))\n",
    "\n",
    "#creating barplot for sony's platforms\n",
    "sns.barplot(x=splatforms, y=stotal_sales, palette='icefire',ax=axes[0])\n",
    "axes[0].set_title('PS2 vs PS3 vs PS4 Global Sales')\n",
    "\n",
    "#creating barplot for microsoft's platforms\n",
    "sns.barplot(x=mplatforms, y=mtotal_sales, palette='viridis',ax=axes[1])\n",
    "axes[1].set_title('Xbox360 vs XboxONE Global Sales')\n",
    "\n",
    "\n",
    "plt.show()"
   ]
  },
  {
   "cell_type": "markdown",
   "id": "64d00ed7",
   "metadata": {},
   "source": [
    "Compartion between PS2,PS3 and PS4 and after between Xbox 360 and Xbox One in number of sales"
   ]
  },
  {
   "cell_type": "code",
   "execution_count": null,
   "id": "cce47a4c",
   "metadata": {},
   "outputs": [],
   "source": [
    "#creating subplots\n",
    "fig , axes =plt.subplots(nrows=3,ncols=1,figsize=(25,15))\n",
    "\n",
    "#create countplot for PC\n",
    "sns.countplot(data=pc,x='GENRE',palette='rocket',ax=axes[0])\n",
    "axes[0].set_title('Top Genres on PC')\n",
    "\n",
    "#create countplot for Sony\n",
    "sns.countplot(data=ps4,x='GENRE',palette='mako',ax=axes[1])\n",
    "axes[1].set_title('Top Genres on PS4')\n",
    "\n",
    "#creating countplot for Microsoft\n",
    "sns.countplot(data=xOne,x='GENRE',palette='viridis',ax=axes[2])\n",
    "axes[2].set_title('Top Genres on XboxONE')\n",
    "plt.show()"
   ]
  },
  {
   "cell_type": "markdown",
   "id": "7595fd07",
   "metadata": {},
   "source": [
    "Checking which gender of games have more sales, separated by plataform."
   ]
  },
  {
   "cell_type": "code",
   "execution_count": null,
   "id": "a8cd0a21",
   "metadata": {},
   "outputs": [],
   "source": [
    "platforms = ['PS2', 'PS3', 'PS4', 'Xbox One', 'Xbox 360', 'PC']\n",
    "regions = ['NA_SALES', 'EU_SALES', 'JP_SALES', 'OTHER_SALES']\n",
    "\n",
    "# Sales data for each platform and region\n",
    "sales_data = {\n",
    "    'PS2': [ps2[region].sum() for region in regions],\n",
    "    'PS3': [ps3[region].sum() for region in regions],\n",
    "    'PS4': [ps4[region].sum() for region in regions],\n",
    "    'Xbox One': [xOne[region].sum() for region in regions],\n",
    "    'Xbox 360': [x360[region].sum() for region in regions],\n",
    "    'PC': [pc[region].sum() for region in regions]\n",
    "}\n",
    "\n",
    "# Convert data to numpy array for plotting\n",
    "sales_array = np.array([[sales_data[platform][i] for platform in platforms] for i in range(len(regions))])\n",
    "\n",
    "# Plotting the grouped bar chart\n",
    "plt.figure(figsize=(15, 5))\n",
    "bar_width = 0.15\n",
    "index = np.arange(len(platforms))\n",
    "\n",
    "for i in range(len(regions)):\n",
    "    plt.bar(index + i * bar_width, sales_array[i], bar_width, label=regions[i])\n",
    "\n",
    "plt.xlabel('Platform')\n",
    "plt.ylabel('Sales (in millions)')\n",
    "plt.title('Sales Comparison Across Regions and Platforms')\n",
    "plt.xticks(index + bar_width * 1.5, platforms)\n",
    "plt.legend()\n",
    "plt.tight_layout()\n",
    "plt.show()"
   ]
  },
  {
   "cell_type": "markdown",
   "id": "13ff547a",
   "metadata": {},
   "source": [
    "Checking each region of the world have more sales in each plataform"
   ]
  },
  {
   "cell_type": "code",
   "execution_count": null,
   "id": "8372b539",
   "metadata": {},
   "outputs": [],
   "source": [
    "#creating subplot\n",
    "fig , axes  = plt.subplots(3,1,figsize=(25,15))\n",
    "\n",
    "#creating lineplot for PC\n",
    "sns.lineplot(data=pc.groupby('YEAR_OF_RELEASE')['GLOBAL_SALES'].sum(),ax=axes[0],color='red')\n",
    "axes[0].set_title('PC Sales Trends Over years (in millions)')\n",
    "\n",
    "#creating lineplot for Sony\n",
    "sns.lineplot(data=sony.groupby('YEAR_OF_RELEASE')['GLOBAL_SALES'].sum(),ax=axes[1],color='blue')\n",
    "axes[1].set_title('Sony Sales Trends Over years (in millions)')\n",
    "\n",
    "#creating lineplot for Microsoft\n",
    "sns.lineplot(data=microsoft.groupby('YEAR_OF_RELEASE')['GLOBAL_SALES'].sum(),ax=axes[2],color='green')\n",
    "axes[2].set_title('Microsoft Sales Trends Over years (in millions)')\n",
    "\n",
    "plt.show()"
   ]
  },
  {
   "cell_type": "markdown",
   "id": "d12ee1d4",
   "metadata": {},
   "source": [
    "Graph showing the sale(in million) in each period of year and splitted by plataform"
   ]
  },
  {
   "cell_type": "code",
   "execution_count": null,
   "id": "1aa6bf2f",
   "metadata": {},
   "outputs": [],
   "source": [
    "#detrmining top global sales games for pc, sony & microsoft\n",
    "top_games_pc = pc.nlargest(25, 'GLOBAL_SALES')\n",
    "top_games_sony = sony.nlargest(25, 'GLOBAL_SALES')\n",
    "top_games_microsoft = microsoft.nlargest(25, 'GLOBAL_SALES')\n",
    "\n",
    "# Add a 'Platform' column to each subset indicating the platform\n",
    "top_games_pc['PLATFORM'] = 'pc'\n",
    "top_games_sony['PLATFORM'] = 'Sony'\n",
    "top_games_microsoft['PLATFORM'] = 'Microsoft'\n",
    "\n",
    "# Combine data\n",
    "combined_top25 = pd.concat([top_games_pc, top_games_sony, top_games_microsoft])\n",
    "\n",
    "# Plotting the boxplot\n",
    "plt.figure(figsize=(10, 6))\n",
    "sns.boxplot(x='PLATFORM', y='GLOBAL_SALES', data=combined_top25, hue='PLATFORM')\n",
    "plt.title('PC vs. Sony vs. Microsoft Top 25 Sales Distribution')\n",
    "plt.xlabel('Platform')\n",
    "plt.ylabel('Global Sales (in millions)')\n",
    "plt.show()"
   ]
  },
  {
   "cell_type": "markdown",
   "id": "d5c90256",
   "metadata": {},
   "source": [
    "The top25 sales for each plataform, in million of sales"
   ]
  },
  {
   "cell_type": "code",
   "execution_count": null,
   "id": "0e7f6377",
   "metadata": {},
   "outputs": [],
   "source": [
    "data = [ps2gs,ps3gs,ps4gs]\n",
    "plt.figure(figsize=(15,5))\n",
    "plt.pie(data,labels=['PS2','PS3','PS4'],colors=['green','red','blue'],autopct='%.f%%',pctdistance=0.5,explode=[0.1,0.1,0.1])\n",
    "plt.title(\"Sony's Global Sales Rate\")"
   ]
  },
  {
   "cell_type": "markdown",
   "id": "0df4b41d",
   "metadata": {},
   "source": [
    "Checking the total number of sales for each platform. It may be affected because PS2 was released in 2000, PS3 in 2006 and PS4 in 2013. The period of time that Sony released games for each plataform is related to this. Because addict videogame people tend to migrate for the new generation, but some people buy the previous one when the price drop"
   ]
  },
  {
   "cell_type": "code",
   "execution_count": null,
   "id": "0ee2a21f",
   "metadata": {},
   "outputs": [],
   "source": [
    "#create a subplot\n",
    "fig , axes = plt.subplots(3, 1,figsize=(25,15))\n",
    "\n",
    "# create a countplot for Sony\n",
    "sns.countplot(data=sony,x='PUBLISHER',order=sony['PUBLISHER'].value_counts().index[:10],palette='mako',ax=axes[0])\n",
    "axes[0].set_title(\"Sony's Top Publishers\")\n",
    "\n",
    "# create a countplot for Microsoft\n",
    "sns.countplot(data=microsoft,x='PUBLISHER',order=microsoft['PUBLISHER'].value_counts().index[:10],palette='viridis',ax=axes[1])\n",
    "axes[1].set_title(\"Microsoft's Top Publishers\")\n",
    "\n",
    "# create a countplot for PC\n",
    "sns.countplot(data=pc,x='PUBLISHER',order=pc['PUBLISHER'].value_counts().index[:10],palette='rocket',ax=axes[2])\n",
    "axes[2].set_title(\"PC's Top Publishers\")"
   ]
  },
  {
   "cell_type": "markdown",
   "id": "25aeae91",
   "metadata": {},
   "source": [
    "Checking the top developers for each platform. I can see Eletronic Arts is the most commum for PC Sony and Microsoft, specially because they are who develop football games in general "
   ]
  },
  {
   "cell_type": "code",
   "execution_count": null,
   "id": "8d515126",
   "metadata": {},
   "outputs": [],
   "source": [
    "#detrmining pc, sony & microsoft's top games\n",
    "top_games_sony = sony.groupby('NAME')['GLOBAL_SALES'].sum().sort_values(ascending=False).head(10)\n",
    "top_games_microsoft = microsoft.groupby('NAME')['GLOBAL_SALES'].sum().sort_values(ascending=False).head(10)\n",
    "top_games_pc = pc.groupby('NAME')['GLOBAL_SALES'].sum().sort_values(ascending=False).head(10)\n",
    "\n",
    "#creating a subplot\n",
    "fig , axes = plt.subplots(3,1,figsize=(25,15))\n",
    "\n",
    "# creating a barplot for sony\n",
    "sns.barplot(x=top_games_sony,y=top_games_sony.index,palette='mako',ax=axes[0])\n",
    "axes[0].set_title('Top-selling Games in sony')\n",
    "\n",
    "# creating a barplot for microsoft\n",
    "sns.barplot(x=top_games_microsoft,y=top_games_microsoft.index,palette='viridis',ax=axes[1])\n",
    "axes[1].set_title('Top-selling Games in microsoft')\n",
    "\n",
    "# creating a barplot for pc\n",
    "sns.barplot(x=top_games_pc,y=top_games_pc.index,palette='rocket',ax=axes[2])\n",
    "axes[2].set_title('Top-selling Games on pc')\n",
    "\n",
    "plt.show()"
   ]
  },
  {
   "cell_type": "markdown",
   "id": "d0720786",
   "metadata": {},
   "source": [
    "Top10 best seller games for each platform. Some games repeat for PS and XBox, but are very different for PC. In the past the focus for PC games were different than nowadays.If we had the data for 2016 until 2023 the games could be different, also, the PC platform have more simulation games, because they the request more machine capacity and people can increase it with easily access to PC if compared to PS and XBox"
   ]
  },
  {
   "cell_type": "markdown",
   "id": "cb50ab75",
   "metadata": {},
   "source": [
    "# TOP GLOBAL SALES"
   ]
  },
  {
   "cell_type": "code",
   "execution_count": null,
   "id": "541512cb",
   "metadata": {},
   "outputs": [],
   "source": [
    "# Combine data from all platforms\n",
    "all_platforms = pd.concat([sony, microsoft, pc])\n",
    "\n",
    "# Group by game name and sum global sales\n",
    "top_games_global = all_platforms.groupby('NAME')['GLOBAL_SALES'].sum().sort_values(ascending=False).head(5)\n",
    "\n",
    "# Create a bar plot\n",
    "plt.figure(figsize=(10, 6))\n",
    "sns.barplot(x=top_games_global.values, y=top_games_global.index, palette='mako')\n",
    "plt.title('Top 5 Best-Selling Games Globally')\n",
    "plt.xlabel('Global Sales (in millions)')\n",
    "plt.ylabel('Game Title')\n",
    "plt.show()"
   ]
  },
  {
   "cell_type": "markdown",
   "id": "779af3e8",
   "metadata": {},
   "source": [
    "Checking the global sales, independent of platform, GTA 5 is the top1 with a big difference of more than double for the second, and the game was realased in 2013, the same year as PS4. GTA 5 is the best selling game ever and a completly success, breaking all records inside and outside of the games."
   ]
  },
  {
   "cell_type": "markdown",
   "id": "da9310b9",
   "metadata": {},
   "source": [
    "# TOP4 MOST POPULAR GENRES"
   ]
  },
  {
   "cell_type": "code",
   "execution_count": null,
   "id": "c34aa43d",
   "metadata": {},
   "outputs": [],
   "source": [
    "# Combine data from all platforms\n",
    "all_platforms = pd.concat([sony, microsoft, pc])\n",
    "\n",
    "# Group by genre and sum global sales\n",
    "top_genres_global = all_platforms.groupby('GENRE')['GLOBAL_SALES'].sum().sort_values(ascending=False).head(4)\n",
    "\n",
    "# Create a bar plot\n",
    "plt.figure(figsize=(10, 6))\n",
    "sns.barplot(x=top_genres_global.values, y=top_genres_global.index, palette='magma')\n",
    "plt.title('Top 4 Most Popular Game Genres Globally')\n",
    "plt.xlabel('Global Sales (in millions)')\n",
    "plt.ylabel('Game Genre')\n",
    "plt.show()"
   ]
  },
  {
   "cell_type": "markdown",
   "id": "3b8ba5f5",
   "metadata": {},
   "source": [
    "The top 4 most popular genres showing Action games are the leader by more than 200 million sale over the second genre. These number is very high because this gender covers many games top of class, like GTA 5 and all the GTA series, the other genres are more specific in terms of games type, like shotter/sports where I can easly see what they are about, and role playing games are more RPG games, something very popular too. But the top2 until top4 are a nich of genres, so that is different than the top1 Action includes many different games"
   ]
  },
  {
   "cell_type": "markdown",
   "id": "88284259",
   "metadata": {},
   "source": [
    "# CORRELATION NA_SALES AND JP_SALES 2010-2014"
   ]
  },
  {
   "cell_type": "code",
   "execution_count": null,
   "id": "97bf50b6",
   "metadata": {},
   "outputs": [],
   "source": [
    "# Filter data for the years 2010 to 2014\n",
    "filtered_df = df[(df['YEAR_OF_RELEASE'].dt.year >= 2010) & (df['YEAR_OF_RELEASE'].dt.year <= 2014)]\n",
    "\n",
    "# Plot the scatter plot\n",
    "plt.figure(figsize=(8, 6))\n",
    "plt.scatter(filtered_df['NA_SALES'], filtered_df['JP_SALES'], alpha=0.5)\n",
    "plt.title('Correlation between NA_SALES and JP_SALES (2010-2014)')\n",
    "plt.xlabel('NA_SALES')\n",
    "plt.ylabel('JP_SALES')\n",
    "plt.xlim(0, 1)  # Set x-axis limits\n",
    "plt.ylim(0, 1)   # Set y-axis limits\n",
    "plt.grid(True)\n",
    "plt.show()\n",
    "\n",
    "# Calculate the Pearson correlation coefficient\n",
    "correlation_coefficient, p_value = pearsonr(filtered_df['NA_SALES'], filtered_df['JP_SALES'])\n",
    "\n",
    "# Display the correlation coefficient\n",
    "print(\"Pearson Correlation Coefficient:\", correlation_coefficient)\n"
   ]
  },
  {
   "cell_type": "markdown",
   "id": "49cebe74",
   "metadata": {},
   "source": [
    "Most of the data points are close to the origin of the graph, it indicates both sales number are low. The high sales are less com,on in both regions. They dont have a linear relatiopship, showing as per a lack of clear diagonal pattern that would suggest that increase in NA Sales are matched by increases at JP Sales. In this correlation dont have many outliers, what indicates some specific game that was exceptionally well received in one market but not in the other one. The correlation efficient cant be determinated just looking the graph, because the pattern dont have a strong positive lienar correlation."
   ]
  },
  {
   "cell_type": "markdown",
   "id": "b99f6cb7",
   "metadata": {},
   "source": [
    "# GAMES SALES BEFORE AND AFTER 2005 IN EU SALES"
   ]
  },
  {
   "cell_type": "code",
   "execution_count": null,
   "id": "68f185a9",
   "metadata": {},
   "outputs": [],
   "source": [
    "# Filter data for older games (2005 and earlier)\n",
    "older_games = df[df['YEAR_OF_RELEASE'].dt.year <= 2005]\n",
    "\n",
    "# Filter data for newer games (after 2005)\n",
    "newer_games = df[df['YEAR_OF_RELEASE'].dt.year > 2005]\n",
    "\n",
    "# Calculate the mean \"EU_SALES\" for older games\n",
    "mean_eu_sales_older = older_games['EU_SALES'].mean()\n",
    "\n",
    "# Calculate the mean \"EU_SALES\" for newer games\n",
    "mean_eu_sales_newer = newer_games['EU_SALES'].mean()\n",
    "\n",
    "# Print the mean \"EU_SALES\" for older and newer games\n",
    "print(\"Mean EU_SALES for older games (2005 and earlier):\", mean_eu_sales_older)\n",
    "print(\"Mean EU_SALES for newer games (after 2005):\", mean_eu_sales_newer)\n",
    "\n",
    "# Compare means to determine if older games have a higher mean \"EU_SALES\" than newer games\n",
    "if mean_eu_sales_older > mean_eu_sales_newer:\n",
    "    print(\"Older games have a higher mean EU_SALES than newer games.\")\n",
    "elif mean_eu_sales_older < mean_eu_sales_newer:\n",
    "    print(\"Newer games have a higher mean EU_SALES than older games.\")\n",
    "else:\n",
    "    print(\"Mean EU_SALES are equal for older and newer games.\")\n",
    "    \n",
    "# Mean EU_SALES data\n",
    "mean_sales = [mean_eu_sales_older, mean_eu_sales_newer]\n",
    "\n",
    "# Labels for the bars\n",
    "labels = ['Older Games (<=2005)', 'Newer Games (>2005)']\n",
    "\n",
    "# Plotting the bar plot\n",
    "plt.figure(figsize=(8, 6))\n",
    "plt.bar(labels, mean_sales, color=['blue', 'orange'])\n",
    "plt.title('Mean EU_SALES Comparison between Older and Newer Games')\n",
    "plt.xlabel('Game Release Year')\n",
    "plt.ylabel('Mean EU_SALES')\n",
    "plt.ylim(0, max(mean_sales) * 1.1)  # Set y-axis limit slightly above the maximum mean sales\n",
    "plt.grid(axis='y', linestyle='--', alpha=0.7)\n",
    "plt.show()"
   ]
  },
  {
   "cell_type": "markdown",
   "id": "4686d547",
   "metadata": {},
   "source": [
    "Comparing both graphs we can see Older games(before 2005) have higher mean if compared to newer games(after 2005) in Europe. This have some reasons to happen, but one of the reasons is the sales before 2005 started at 80's and last for 25 years, and the games after 2005 have only 10 years of sales recorded. It can be one of the reasons for this higher means before 2005. One other reason is because the video game players were more widespread nowadays, with more access to content about it, reviews about games and consoles etc"
   ]
  },
  {
   "cell_type": "code",
   "execution_count": null,
   "id": "5db6107c",
   "metadata": {},
   "outputs": [],
   "source": [
    "# Replace various names for EA and Electronic Arts with \"EA GAMES\"\n",
    "replacements = {\n",
    "    'EA': 'EA GAMES', 'EA Canada': 'EA GAMES', 'EA Vancouver': 'EA GAMES',\n",
    "    'EA Sports': 'EA GAMES', 'EA Sports Big': 'EA GAMES', 'EA Tiburon': 'EA GAMES',\n",
    "    'EA Redwood Shores': 'EA GAMES', 'EA LA': 'EA GAMES', 'EA Bright Light': 'EA GAMES',\n",
    "    'EA DICE': 'EA GAMES', 'EA Montreal': 'EA GAMES', 'EA Phenomic': 'EA GAMES',\n",
    "    'EA Salt Lake': 'EA GAMES', 'EA Seattle': 'EA GAMES', 'EA Chicago': 'EA GAMES',\n",
    "    'EA Games': 'EA GAMES', 'Electronic Arts': 'EA GAMES',\n",
    "    'Electronic Arts, EA Redwood Shores': 'EA GAMES', 'Electronic Arts, Rebellion': 'EA GAMES'\n",
    "}\n",
    "df['DEVELOPER'] = df['DEVELOPER'].replace(replacements)\n",
    "\n",
    "# Count occurrences of each developer, reflecting the number of games for each\n",
    "developer_counts = df['DEVELOPER'].value_counts()\n",
    "\n",
    "# Select the top 3 most common developers\n",
    "top3_developers = developer_counts.head(3)\n",
    "\n",
    "# Plotting the bar chart for the top 3 developers based on the number of games\n",
    "plt.figure(figsize=(10, 6))\n",
    "top3_developers.plot(kind='bar', color='skyblue')\n",
    "plt.title('Top 3 Developers by Number of Games Published')\n",
    "plt.xlabel('Developer')\n",
    "plt.ylabel('Number of Games Published')\n",
    "plt.xticks(rotation=45)  # Rotate x-axis labels for better readability\n",
    "plt.grid(axis='y', linestyle='--', alpha=0.7)\n",
    "plt.show()"
   ]
  },
  {
   "cell_type": "code",
   "execution_count": null,
   "id": "fd908f7d",
   "metadata": {},
   "outputs": [],
   "source": []
  }
 ],
 "metadata": {
  "kernelspec": {
   "display_name": "Python 3 (ipykernel)",
   "language": "python",
   "name": "python3"
  },
  "language_info": {
   "codemirror_mode": {
    "name": "ipython",
    "version": 3
   },
   "file_extension": ".py",
   "mimetype": "text/x-python",
   "name": "python",
   "nbconvert_exporter": "python",
   "pygments_lexer": "ipython3",
   "version": "3.11.4"
  }
 },
 "nbformat": 4,
 "nbformat_minor": 5
}
